{
 "cells": [
  {
   "cell_type": "markdown",
   "metadata": {},
   "source": [
    "# PyPack example"
   ]
  },
  {
   "cell_type": "code",
   "execution_count": 1,
   "metadata": {},
   "outputs": [],
   "source": [
    "from pytemppack import PyPack\n",
    "from pytemppack.utils import generate_random_array"
   ]
  },
  {
   "cell_type": "code",
   "execution_count": 2,
   "metadata": {},
   "outputs": [],
   "source": [
    "data = generate_random_array((5, 5))\n",
    "columns = ['a', 'b', 'c', 'd', 'e']"
   ]
  },
  {
   "cell_type": "code",
   "execution_count": 3,
   "metadata": {},
   "outputs": [],
   "source": [
    "pypack = PyPack(data)\n",
    "pypack.transform_results(columns)"
   ]
  },
  {
   "cell_type": "code",
   "execution_count": 4,
   "metadata": {},
   "outputs": [
    {
     "data": {
      "text/html": [
       "<div>\n",
       "<style scoped>\n",
       "    .dataframe tbody tr th:only-of-type {\n",
       "        vertical-align: middle;\n",
       "    }\n",
       "\n",
       "    .dataframe tbody tr th {\n",
       "        vertical-align: top;\n",
       "    }\n",
       "\n",
       "    .dataframe thead th {\n",
       "        text-align: right;\n",
       "    }\n",
       "</style>\n",
       "<table border=\"1\" class=\"dataframe\">\n",
       "  <thead>\n",
       "    <tr style=\"text-align: right;\">\n",
       "      <th></th>\n",
       "      <th>a</th>\n",
       "      <th>b</th>\n",
       "      <th>c</th>\n",
       "      <th>d</th>\n",
       "      <th>e</th>\n",
       "    </tr>\n",
       "  </thead>\n",
       "  <tbody>\n",
       "    <tr>\n",
       "      <th>0</th>\n",
       "      <td>0.976700</td>\n",
       "      <td>0.118091</td>\n",
       "      <td>0.441006</td>\n",
       "      <td>0.659874</td>\n",
       "      <td>0.060139</td>\n",
       "    </tr>\n",
       "    <tr>\n",
       "      <th>1</th>\n",
       "      <td>0.380196</td>\n",
       "      <td>0.241766</td>\n",
       "      <td>0.609871</td>\n",
       "      <td>0.735758</td>\n",
       "      <td>0.683689</td>\n",
       "    </tr>\n",
       "    <tr>\n",
       "      <th>2</th>\n",
       "      <td>0.923246</td>\n",
       "      <td>0.318534</td>\n",
       "      <td>0.863621</td>\n",
       "      <td>0.222754</td>\n",
       "      <td>0.671238</td>\n",
       "    </tr>\n",
       "    <tr>\n",
       "      <th>3</th>\n",
       "      <td>0.261692</td>\n",
       "      <td>0.964079</td>\n",
       "      <td>0.863758</td>\n",
       "      <td>0.172066</td>\n",
       "      <td>0.611018</td>\n",
       "    </tr>\n",
       "    <tr>\n",
       "      <th>4</th>\n",
       "      <td>0.319097</td>\n",
       "      <td>0.263650</td>\n",
       "      <td>0.674881</td>\n",
       "      <td>0.870415</td>\n",
       "      <td>0.060137</td>\n",
       "    </tr>\n",
       "  </tbody>\n",
       "</table>\n",
       "</div>"
      ],
      "text/plain": [
       "          a         b         c         d         e\n",
       "0  0.976700  0.118091  0.441006  0.659874  0.060139\n",
       "1  0.380196  0.241766  0.609871  0.735758  0.683689\n",
       "2  0.923246  0.318534  0.863621  0.222754  0.671238\n",
       "3  0.261692  0.964079  0.863758  0.172066  0.611018\n",
       "4  0.319097  0.263650  0.674881  0.870415  0.060137"
      ]
     },
     "execution_count": 4,
     "metadata": {},
     "output_type": "execute_result"
    }
   ],
   "source": [
    "pypack.results.head()"
   ]
  }
 ],
 "metadata": {
  "kernelspec": {
   "display_name": "Python 3.9.7 ('pytemppack-T6CLa311-py3.9')",
   "language": "python",
   "name": "python3"
  },
  "language_info": {
   "codemirror_mode": {
    "name": "ipython",
    "version": 3
   },
   "file_extension": ".py",
   "mimetype": "text/x-python",
   "name": "python",
   "nbconvert_exporter": "python",
   "pygments_lexer": "ipython3",
   "version": "3.9.7"
  },
  "orig_nbformat": 4,
  "vscode": {
   "interpreter": {
    "hash": "20cd8dd224d6b27c68f30c2410471aaa19333d17ea87fd9090ffbde5efe10b1d"
   }
  }
 },
 "nbformat": 4,
 "nbformat_minor": 2
}
